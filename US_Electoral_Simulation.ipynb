{
  "nbformat": 4,
  "nbformat_minor": 0,
  "metadata": {
    "colab": {
      "name": "US_Electoral_Simulation.ipynb",
      "provenance": [],
      "authorship_tag": "ABX9TyOH92kHlXsVXPvVIi+MN2PY",
      "include_colab_link": true
    },
    "kernelspec": {
      "name": "python3",
      "display_name": "Python 3"
    }
  },
  "cells": [
    {
      "cell_type": "markdown",
      "metadata": {
        "id": "view-in-github",
        "colab_type": "text"
      },
      "source": [
        "<a href=\"https://colab.research.google.com/github/thiagocdn/US_Elections/blob/main/US_Electoral_Simulation.ipynb\" target=\"_parent\"><img src=\"https://colab.research.google.com/assets/colab-badge.svg\" alt=\"Open In Colab\"/></a>"
      ]
    },
    {
      "cell_type": "code",
      "metadata": {
        "id": "mL_KUIMT6ek-"
      },
      "source": [
        "import pandas as pd\n",
        "import matplotlib.pyplot as plt\n",
        "import seaborn as sns\n",
        "import numpy as np"
      ],
      "execution_count": 151,
      "outputs": []
    },
    {
      "cell_type": "code",
      "metadata": {
        "id": "7xsZRqm46-qA",
        "outputId": "2d97aa44-4025-4c45-9738-19173bbbeaf3",
        "colab": {
          "base_uri": "https://localhost:8080/",
          "height": 191
        }
      },
      "source": [
        "dataset = pd.read_csv('https://raw.githubusercontent.com/thiagocdn/US_Elections/main/dataset.csv')\n",
        "dataset.head()"
      ],
      "execution_count": 152,
      "outputs": [
        {
          "output_type": "execute_result",
          "data": {
            "text/html": [
              "<div>\n",
              "<style scoped>\n",
              "    .dataframe tbody tr th:only-of-type {\n",
              "        vertical-align: middle;\n",
              "    }\n",
              "\n",
              "    .dataframe tbody tr th {\n",
              "        vertical-align: top;\n",
              "    }\n",
              "\n",
              "    .dataframe thead th {\n",
              "        text-align: right;\n",
              "    }\n",
              "</style>\n",
              "<table border=\"1\" class=\"dataframe\">\n",
              "  <thead>\n",
              "    <tr style=\"text-align: right;\">\n",
              "      <th></th>\n",
              "      <th>state_name</th>\n",
              "      <th>state_initials</th>\n",
              "      <th>population_2004</th>\n",
              "      <th>electoral_votes_2004</th>\n",
              "    </tr>\n",
              "  </thead>\n",
              "  <tbody>\n",
              "    <tr>\n",
              "      <th>0</th>\n",
              "      <td>Alabama</td>\n",
              "      <td>AL</td>\n",
              "      <td>4530182</td>\n",
              "      <td>9</td>\n",
              "    </tr>\n",
              "    <tr>\n",
              "      <th>1</th>\n",
              "      <td>Alaska</td>\n",
              "      <td>AK</td>\n",
              "      <td>655435</td>\n",
              "      <td>3</td>\n",
              "    </tr>\n",
              "    <tr>\n",
              "      <th>2</th>\n",
              "      <td>Arizona</td>\n",
              "      <td>AZ</td>\n",
              "      <td>5743834</td>\n",
              "      <td>10</td>\n",
              "    </tr>\n",
              "    <tr>\n",
              "      <th>3</th>\n",
              "      <td>Arkansas</td>\n",
              "      <td>AR</td>\n",
              "      <td>2752629</td>\n",
              "      <td>6</td>\n",
              "    </tr>\n",
              "    <tr>\n",
              "      <th>4</th>\n",
              "      <td>California</td>\n",
              "      <td>CA</td>\n",
              "      <td>35893799</td>\n",
              "      <td>55</td>\n",
              "    </tr>\n",
              "  </tbody>\n",
              "</table>\n",
              "</div>"
            ],
            "text/plain": [
              "   state_name state_initials  population_2004  electoral_votes_2004\n",
              "0     Alabama             AL          4530182                     9\n",
              "1      Alaska             AK           655435                     3\n",
              "2     Arizona             AZ          5743834                    10\n",
              "3    Arkansas             AR          2752629                     6\n",
              "4  California             CA         35893799                    55"
            ]
          },
          "metadata": {
            "tags": []
          },
          "execution_count": 152
        }
      ]
    },
    {
      "cell_type": "code",
      "metadata": {
        "id": "Lp9M0CXO7Hbz",
        "outputId": "1f82b66f-d030-4eec-fe17-ab21cb547144",
        "colab": {
          "base_uri": "https://localhost:8080/",
          "height": 191
        }
      },
      "source": [
        "dataset[\"relation_pop_elec\"] = dataset[\"electoral_votes_2004\"] / dataset[\"population_2004\"]\n",
        "dataset.head()"
      ],
      "execution_count": 153,
      "outputs": [
        {
          "output_type": "execute_result",
          "data": {
            "text/html": [
              "<div>\n",
              "<style scoped>\n",
              "    .dataframe tbody tr th:only-of-type {\n",
              "        vertical-align: middle;\n",
              "    }\n",
              "\n",
              "    .dataframe tbody tr th {\n",
              "        vertical-align: top;\n",
              "    }\n",
              "\n",
              "    .dataframe thead th {\n",
              "        text-align: right;\n",
              "    }\n",
              "</style>\n",
              "<table border=\"1\" class=\"dataframe\">\n",
              "  <thead>\n",
              "    <tr style=\"text-align: right;\">\n",
              "      <th></th>\n",
              "      <th>state_name</th>\n",
              "      <th>state_initials</th>\n",
              "      <th>population_2004</th>\n",
              "      <th>electoral_votes_2004</th>\n",
              "      <th>relation_pop_elec</th>\n",
              "    </tr>\n",
              "  </thead>\n",
              "  <tbody>\n",
              "    <tr>\n",
              "      <th>0</th>\n",
              "      <td>Alabama</td>\n",
              "      <td>AL</td>\n",
              "      <td>4530182</td>\n",
              "      <td>9</td>\n",
              "      <td>0.000002</td>\n",
              "    </tr>\n",
              "    <tr>\n",
              "      <th>1</th>\n",
              "      <td>Alaska</td>\n",
              "      <td>AK</td>\n",
              "      <td>655435</td>\n",
              "      <td>3</td>\n",
              "      <td>0.000005</td>\n",
              "    </tr>\n",
              "    <tr>\n",
              "      <th>2</th>\n",
              "      <td>Arizona</td>\n",
              "      <td>AZ</td>\n",
              "      <td>5743834</td>\n",
              "      <td>10</td>\n",
              "      <td>0.000002</td>\n",
              "    </tr>\n",
              "    <tr>\n",
              "      <th>3</th>\n",
              "      <td>Arkansas</td>\n",
              "      <td>AR</td>\n",
              "      <td>2752629</td>\n",
              "      <td>6</td>\n",
              "      <td>0.000002</td>\n",
              "    </tr>\n",
              "    <tr>\n",
              "      <th>4</th>\n",
              "      <td>California</td>\n",
              "      <td>CA</td>\n",
              "      <td>35893799</td>\n",
              "      <td>55</td>\n",
              "      <td>0.000002</td>\n",
              "    </tr>\n",
              "  </tbody>\n",
              "</table>\n",
              "</div>"
            ],
            "text/plain": [
              "   state_name state_initials  ...  electoral_votes_2004  relation_pop_elec\n",
              "0     Alabama             AL  ...                     9           0.000002\n",
              "1      Alaska             AK  ...                     3           0.000005\n",
              "2     Arizona             AZ  ...                    10           0.000002\n",
              "3    Arkansas             AR  ...                     6           0.000002\n",
              "4  California             CA  ...                    55           0.000002\n",
              "\n",
              "[5 rows x 5 columns]"
            ]
          },
          "metadata": {
            "tags": []
          },
          "execution_count": 153
        }
      ]
    },
    {
      "cell_type": "code",
      "metadata": {
        "id": "pauwkkFyAawU",
        "outputId": "599dce04-0721-45fd-91d3-b246e07b49c0",
        "colab": {
          "base_uri": "https://localhost:8080/",
          "height": 220
        }
      },
      "source": [
        "dataset.set_index('state_name', inplace=True)\n",
        "dataset.head()"
      ],
      "execution_count": 154,
      "outputs": [
        {
          "output_type": "execute_result",
          "data": {
            "text/html": [
              "<div>\n",
              "<style scoped>\n",
              "    .dataframe tbody tr th:only-of-type {\n",
              "        vertical-align: middle;\n",
              "    }\n",
              "\n",
              "    .dataframe tbody tr th {\n",
              "        vertical-align: top;\n",
              "    }\n",
              "\n",
              "    .dataframe thead th {\n",
              "        text-align: right;\n",
              "    }\n",
              "</style>\n",
              "<table border=\"1\" class=\"dataframe\">\n",
              "  <thead>\n",
              "    <tr style=\"text-align: right;\">\n",
              "      <th></th>\n",
              "      <th>state_initials</th>\n",
              "      <th>population_2004</th>\n",
              "      <th>electoral_votes_2004</th>\n",
              "      <th>relation_pop_elec</th>\n",
              "    </tr>\n",
              "    <tr>\n",
              "      <th>state_name</th>\n",
              "      <th></th>\n",
              "      <th></th>\n",
              "      <th></th>\n",
              "      <th></th>\n",
              "    </tr>\n",
              "  </thead>\n",
              "  <tbody>\n",
              "    <tr>\n",
              "      <th>Alabama</th>\n",
              "      <td>AL</td>\n",
              "      <td>4530182</td>\n",
              "      <td>9</td>\n",
              "      <td>0.000002</td>\n",
              "    </tr>\n",
              "    <tr>\n",
              "      <th>Alaska</th>\n",
              "      <td>AK</td>\n",
              "      <td>655435</td>\n",
              "      <td>3</td>\n",
              "      <td>0.000005</td>\n",
              "    </tr>\n",
              "    <tr>\n",
              "      <th>Arizona</th>\n",
              "      <td>AZ</td>\n",
              "      <td>5743834</td>\n",
              "      <td>10</td>\n",
              "      <td>0.000002</td>\n",
              "    </tr>\n",
              "    <tr>\n",
              "      <th>Arkansas</th>\n",
              "      <td>AR</td>\n",
              "      <td>2752629</td>\n",
              "      <td>6</td>\n",
              "      <td>0.000002</td>\n",
              "    </tr>\n",
              "    <tr>\n",
              "      <th>California</th>\n",
              "      <td>CA</td>\n",
              "      <td>35893799</td>\n",
              "      <td>55</td>\n",
              "      <td>0.000002</td>\n",
              "    </tr>\n",
              "  </tbody>\n",
              "</table>\n",
              "</div>"
            ],
            "text/plain": [
              "           state_initials  ...  relation_pop_elec\n",
              "state_name                 ...                   \n",
              "Alabama                AL  ...           0.000002\n",
              "Alaska                 AK  ...           0.000005\n",
              "Arizona                AZ  ...           0.000002\n",
              "Arkansas               AR  ...           0.000002\n",
              "California             CA  ...           0.000002\n",
              "\n",
              "[5 rows x 4 columns]"
            ]
          },
          "metadata": {
            "tags": []
          },
          "execution_count": 154
        }
      ]
    },
    {
      "cell_type": "code",
      "metadata": {
        "id": "JsZWtdtKCuTt",
        "outputId": "f6cd9f9a-a30b-4010-fd66-a4d2a41488ac",
        "colab": {
          "base_uri": "https://localhost:8080/",
          "height": 455
        }
      },
      "source": [
        "plt.figure()\n",
        "ploting_set = dataset.copy()\n",
        "ploting_set[\"population_2004\"] = ploting_set[\"population_2004\"]/dataset[\"population_2004\"].sum()*100\n",
        "ploting_set[\"electoral_votes_2004\"] = ploting_set[\"electoral_votes_2004\"]/dataset[\"electoral_votes_2004\"].sum()*100\n",
        "ploting_set[[\"population_2004\", \"electoral_votes_2004\"]].sort_values(\"population_2004\", ascending=False).plot(kind=\"bar\", figsize=(15,5))\n",
        "\n",
        "plt.legend([\"% of Population in 2004 per State\", \"% of Electoral Votes in 2004 per State\"])\n",
        "plt.xlabel('State')\n",
        "plt.ylabel('%')\n",
        "plt.title('Comparison of % of people on each state and electoral votes over the country total')\n",
        "plt.show()"
      ],
      "execution_count": 155,
      "outputs": [
        {
          "output_type": "display_data",
          "data": {
            "text/plain": [
              "<Figure size 432x288 with 0 Axes>"
            ]
          },
          "metadata": {
            "tags": []
          }
        },
        {
          "output_type": "display_data",
          "data": {
            "image/png": "[encoded data removed]",
            "text/plain": [
              "<Figure size 1080x360 with 1 Axes>"
            ]
          },
          "metadata": {
            "tags": [],
            "needs_background": "light"
          }
        }
      ]
    },
    {
      "cell_type": "code",
      "metadata": {
        "id": "y46bEs3qFFya",
        "outputId": "13620aa7-8ede-41a6-f369-adcd168415ea",
        "colab": {
          "base_uri": "https://localhost:8080/",
          "height": 450
        }
      },
      "source": [
        "sorted_ploting_set = ploting_set.sort_values(\"population_2004\", ascending=False)\n",
        "sorted_ploting_set[[\"relation_pop_elec\"]].plot(kind=\"bar\", figsize=(15,5))"
      ],
      "execution_count": 156,
      "outputs": [
        {
          "output_type": "execute_result",
          "data": {
            "text/plain": [
              "<matplotlib.axes._subplots.AxesSubplot at 0x7fecb6676128>"
            ]
          },
          "metadata": {
            "tags": []
          },
          "execution_count": 156
        },
        {
          "output_type": "display_data",
          "data": {
            "image/png": "[encoded data removed]",
            "text/plain": [
              "<Figure size 1080x360 with 1 Axes>"
            ]
          },
          "metadata": {
            "tags": [],
            "needs_background": "light"
          }
        }
      ]
    },
    {
      "cell_type": "markdown",
      "metadata": {
        "id": "rsKl9Lv0NQlV"
      },
      "source": [
        "Now, we have the states which most influence on electoral votes with less single votes in the election, lets split them and check the minimum quantity of votes candidate A needs to be elected."
      ]
    },
    {
      "cell_type": "code",
      "metadata": {
        "id": "h-9nrXfA7F66"
      },
      "source": [
        "sorted_relation = dataset.sort_values(\"relation_pop_elec\", ascending=False)"
      ],
      "execution_count": 157,
      "outputs": []
    },
    {
      "cell_type": "code",
      "metadata": {
        "id": "FUZJVw9z8ypS"
      },
      "source": [
        "votes_candidate_A = 0\n",
        "electoral_votes_A = 0\n",
        "votes_candidate_B = 0\n",
        "electoral_votes_B = 0\n",
        "\n",
        "for state in sorted_relation.iloc:\n",
        "  if(electoral_votes_A < 270):\n",
        "    votes_candidate_A = votes_candidate_A + (state.population_2004)*0.5 + 1\n",
        "    electoral_votes_A = electoral_votes_A + state.electoral_votes_2004\n",
        "    votes_candidate_B = votes_candidate_B + (state.population_2004)*0.5 - 1\n",
        "  else:\n",
        "    votes_candidate_B = votes_candidate_B + state.population_2004\n",
        "    electoral_votes_B = electoral_votes_B + state.electoral_votes_2004"
      ],
      "execution_count": 158,
      "outputs": []
    },
    {
      "cell_type": "code",
      "metadata": {
        "id": "92xQTV8i-l3p",
        "outputId": "a0a0a753-528b-47f0-d625-aa5fee3a1d63",
        "colab": {
          "base_uri": "https://localhost:8080/"
        }
      },
      "source": [
        "print(f\"Electoral Votes Cadidate A: {electoral_votes_A}\")\n",
        "print(f\"Electoral Votes Cadidate B: {electoral_votes_B}\")"
      ],
      "execution_count": 159,
      "outputs": [
        {
          "output_type": "stream",
          "text": [
            "Electoral Votes Cadidate A: 279\n",
            "Electoral Votes Cadidate B: 259\n"
          ],
          "name": "stdout"
        }
      ]
    },
    {
      "cell_type": "markdown",
      "metadata": {
        "id": "w50ILpQe_bVQ"
      },
      "source": [
        "## **WINNER:** *Candidate A* with 279 electoral votes...\n",
        "\n",
        "... but lets check the abosulte number of votes:"
      ]
    },
    {
      "cell_type": "code",
      "metadata": {
        "id": "EFmZNxw9_BYK",
        "outputId": "70ab7c2b-52c1-4828-9b39-883639d546f7",
        "colab": {
          "base_uri": "https://localhost:8080/"
        }
      },
      "source": [
        "print(f\"Absolute Votes Cadidate A: {votes_candidate_A}\")\n",
        "print(f\"Absolute Votes Cadidate B: {votes_candidate_B}\")\n",
        "print(\"\")\n",
        "print(f\"Difference: {votes_candidate_B - votes_candidate_A}\")"
      ],
      "execution_count": 160,
      "outputs": [
        {
          "output_type": "stream",
          "text": [
            "Absolute Votes Cadidate A: 66341472.5\n",
            "Absolute Votes Cadidate B: 227313931.5\n",
            "\n",
            "Difference: 160972459.0\n"
          ],
          "name": "stdout"
        }
      ]
    },
    {
      "cell_type": "markdown",
      "metadata": {
        "id": "veMMO1op_wDb"
      },
      "source": [
        "Even though the **Candidate A** was the winner, we can check an astounishing number of over \n",
        "\n",
        "## **160 MILLIONS more votes for candidate B**\n",
        "\n",
        "checking the % of votes for each candidate:"
      ]
    },
    {
      "cell_type": "code",
      "metadata": {
        "id": "Y-ijtNe9Bk3S",
        "outputId": "a793fa74-c5e1-4a84-e449-abc1ca3c3c80",
        "colab": {
          "base_uri": "https://localhost:8080/"
        }
      },
      "source": [
        "print(f\"% of Votes for Cadidate A: {votes_candidate_A / (votes_candidate_A + votes_candidate_B)*100:.2f}%\")\n",
        "print(f\"% of Votes for Cadidate B: {votes_candidate_B / (votes_candidate_A + votes_candidate_B)*100:.2f}%\")"
      ],
      "execution_count": 161,
      "outputs": [
        {
          "output_type": "stream",
          "text": [
            "% of Votes for Cadidate A: 22.59%\n",
            "% of Votes for Cadidate B: 77.41%\n"
          ],
          "name": "stdout"
        }
      ]
    }
  ]
}